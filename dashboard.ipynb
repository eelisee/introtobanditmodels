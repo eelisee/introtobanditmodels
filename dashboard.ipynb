{
 "cells": [
  {
   "cell_type": "code",
   "execution_count": 10,
   "metadata": {},
   "outputs": [],
   "source": []
  },
  {
   "cell_type": "code",
   "execution_count": 32,
   "metadata": {},
   "outputs": [],
   "source": [
    "import pandas as pd\n",
    "import plotly.graph_objs as go\n",
    "from plotly.subplots import make_subplots\n",
    "\n",
    "# Dateipfade zu den CSV-Dateien\n",
    "file_paths = [\n",
    "    \"C:/Users/canis/OneDrive/Dokumente/uni/uni-surface/FSS 2024/BA/bachelorarbeit_vrlfg/BA_vrlfg/BA_recherche/github/varianceinucbalgorithms/ETC_average_results.csv\",\n",
    "    \"C:/Users/canis/OneDrive/Dokumente/uni/uni-surface/FSS 2024/BA/bachelorarbeit_vrlfg/BA_vrlfg/BA_recherche/github/varianceinucbalgorithms/EpsilonGreedy_average_results.csv\",\n",
    "    \"C:/Users/canis/OneDrive/Dokumente/uni/uni-surface/FSS 2024/BA/bachelorarbeit_vrlfg/BA_vrlfg/BA_recherche/github/varianceinucbalgorithms/UCB_average_results.csv\"\n",
    "]\n",
    "\n",
    "# Liste der Namen der Algorithmen für die Legende\n",
    "algorithm_names = [\"ETC\", \"Epsilon-Greedy\", \"UCB\"]\n",
    "\n",
    "# Daten aus den CSV-Dateien lesen\n",
    "data_frames = [pd.read_csv(file) for file in file_paths]\n",
    "\n",
    "# Plotly-Figure-Objekt erstellen\n",
    "fig = make_subplots(rows=3, cols=1, subplot_titles=(\"Total Reward über die Zeitschritte\", \n",
    "                                                    \"Totaler Regret über die Zeitschritte\",\n",
    "                                                    \"Anteil von optimalen Zügen\"))\n",
    "\n",
    "# Für jeden Algorithmus Daten plotten\n",
    "for i, df in enumerate(data_frames):\n",
    "    fig.add_trace(go.Scatter(x=df['Timestep'], y=df['Average Total Reward'], mode='lines', name=algorithm_names[i]), row=1, col=1)\n",
    "    fig.add_trace(go.Scatter(x=df['Timestep'], y=df['Average Regret'], mode='lines', name=algorithm_names[i]), row=2, col=1)\n",
    "    fig.add_trace(go.Scatter(x=df['Timestep'], y=df['Timestep']-df['Average Suboptimal Arms'], mode='lines', name=algorithm_names[i]), row=3, col=1)\n",
    "\n",
    "# Layout anpassen\n",
    "fig.update_layout(height=900, width=800, showlegend=True, title_text=\"Vergleich der Algorithmen\")\n",
    "\n",
    "# Legende außerhalb der Figuren platzieren\n",
    "fig.update_layout(legend=dict(\n",
    "    yanchor=\"bottom\",\n",
    "    y=0.8,  # Ändere diese Zahl, um die vertikale Position anzupassen\n",
    "    xanchor=\"left\",\n",
    "    x=0.99  # Ändere diese Zahl, um die horizontale Position anzupassen\n",
    "))\n",
    "\n",
    "# Logarithmische Skalen für alle Achsen festlegen\n",
    "fig.update_xaxes(type=\"log\")\n",
    "fig.update_yaxes(type=\"log\", row=1, col=1)\n",
    "fig.update_yaxes(type=\"log\", row=2, col=1)\n",
    "fig.update_yaxes(type=\"log\", row=3, col=1)\n",
    "\n",
    "# HTML-Datei als Output speichern\n",
    "fig.write_html(\"dashboard.html\")\n"
   ]
  }
 ],
 "metadata": {
  "kernelspec": {
   "display_name": "myenv",
   "language": "python",
   "name": "python3"
  },
  "language_info": {
   "codemirror_mode": {
    "name": "ipython",
    "version": 3
   },
   "file_extension": ".py",
   "mimetype": "text/x-python",
   "name": "python",
   "nbconvert_exporter": "python",
   "pygments_lexer": "ipython3",
   "version": "3.10.7"
  }
 },
 "nbformat": 4,
 "nbformat_minor": 2
}
